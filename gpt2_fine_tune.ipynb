{
 "cells": [
  {
   "cell_type": "code",
   "execution_count": 1,
   "id": "beb8e923-41dd-4695-aeb4-134b941ef3ee",
   "metadata": {},
   "outputs": [
    {
     "name": "stderr",
     "output_type": "stream",
     "text": [
      "2024-11-08 10:54:35.365002: E external/local_xla/xla/stream_executor/cuda/cuda_fft.cc:477] Unable to register cuFFT factory: Attempting to register factory for plugin cuFFT when one has already been registered\n",
      "WARNING: All log messages before absl::InitializeLog() is called are written to STDERR\n",
      "E0000 00:00:1731043475.379700   10918 cuda_dnn.cc:8310] Unable to register cuDNN factory: Attempting to register factory for plugin cuDNN when one has already been registered\n",
      "E0000 00:00:1731043475.383826   10918 cuda_blas.cc:1418] Unable to register cuBLAS factory: Attempting to register factory for plugin cuBLAS when one has already been registered\n",
      "/home/aarav/anaconda3/envs/keras-jax/lib/python3.10/site-packages/tqdm/auto.py:21: TqdmWarning: IProgress not found. Please update jupyter and ipywidgets. See https://ipywidgets.readthedocs.io/en/stable/user_install.html\n",
      "  from .autonotebook import tqdm as notebook_tqdm\n"
     ]
    }
   ],
   "source": [
    "import os\n",
    "\n",
    "os.environ[\"KERAS_BACKEND\"] = \"jax\"  # or \"tensorflow\" or \"torch\"\n",
    "\n",
    "import keras_hub\n",
    "import keras\n",
    "import tensorflow as tf\n",
    "import time\n",
    "\n",
    "keras.mixed_precision.set_global_policy(\"mixed_float16\")"
   ]
  },
  {
   "cell_type": "code",
   "execution_count": 2,
   "id": "c28de7e8-9fcb-4ebc-82c3-dc66cffd62da",
   "metadata": {},
   "outputs": [],
   "source": [
    "import json\n",
    "import tensorflow as tf"
   ]
  },
  {
   "cell_type": "code",
   "execution_count": 3,
   "id": "0f63ea87-dcae-49d3-b595-f69c7b2f4fcd",
   "metadata": {},
   "outputs": [],
   "source": [
    "import pandas as pd"
   ]
  },
  {
   "cell_type": "code",
   "execution_count": 4,
   "id": "14504be1-f302-49c3-ab54-c8d35feac9a9",
   "metadata": {},
   "outputs": [],
   "source": [
    "from datasets import load_dataset\n",
    "dataset = load_dataset('reddit_tifu','short')"
   ]
  },
  {
   "cell_type": "code",
   "execution_count": 5,
   "id": "f19628c7-6a51-49a9-8d4c-d724ea090edd",
   "metadata": {},
   "outputs": [
    {
     "data": {
      "text/plain": [
       "DatasetDict({\n",
       "    train: Dataset({\n",
       "        features: ['ups', 'num_comments', 'upvote_ratio', 'score', 'documents', 'tldr', 'title'],\n",
       "        num_rows: 79740\n",
       "    })\n",
       "})"
      ]
     },
     "execution_count": 5,
     "metadata": {},
     "output_type": "execute_result"
    }
   ],
   "source": [
    "dataset"
   ]
  },
  {
   "cell_type": "code",
   "execution_count": 6,
   "id": "bc82142c-121f-4a02-9907-c67f74a35a27",
   "metadata": {},
   "outputs": [],
   "source": [
    "import numpy as np"
   ]
  },
  {
   "cell_type": "code",
   "execution_count": 7,
   "id": "1122ee31-931d-4a11-a965-29efc1cd2aa7",
   "metadata": {},
   "outputs": [],
   "source": [
    "data = np.array(dataset['train'][0:]['documents'])"
   ]
  },
  {
   "cell_type": "code",
   "execution_count": 8,
   "id": "817def19-09f2-4c62-9647-59dec86f1a7b",
   "metadata": {},
   "outputs": [
    {
     "data": {
      "text/plain": [
       "array([\"i was on skype on my tablet as i went to the toilet iming a friend. i don't multitask very well, so i forgot one of the most important things to do before pooping. i think the best part was when i realised and told my mate who just freaked out because i was talking to him on the john!\",\n",
       "       'this actually happened a couple of years ago. i grew up in germany where i went to a german secondary school that went from 5th to 13th grade (we still had 13 grades then, they have since changed that). my school was named after anne frank and we had a club that i was very active in from 9th grade on, which was dedicated to teaching incoming 5th graders about anne franks life, discrimination, anti-semitism, hitler, the third reich and that whole spiel. basically a day where the students\\' classes are cancelled and instead we give them an interactive history and social studies class with lots of activities and games. \\n\\nthis was my last year at school and i already had a lot of experience doing these project days with the kids. i was running the thing with a friend, so it was just the two of us and 30-something 5th graders. we start off with a brief introduction and brainstorming: what do they know about anne frank and the third reich? you\\'d be surprised how much they know. anyway after the brainstorming we do a few activities, and then we take a short break. after the break we split the class into two groups to make it easier to handle. one group watches a short movie about anne frank while the other gets a tour through our poster presentation that our student group has been perfecting over the years. then the groups switch. \\n\\ni\\'m in the classroom to show my group the movie and i take attendance to make sure no one decided to run away during break. i\\'m going down the list when i come to the name sandra (name changed). a kid with a boyish haircut and a somewhat deeper voice, wearing clothes from the boy\\'s section at a big clothing chain in germany, pipes up. \\n\\nnow keep in mind, these are all 11 year olds, they are all pre-pubescent, their bodies are not yet showing any sex specific features one would be able to see while they are fully clothed (e.g. boobs, beards,...). this being a 5th grade in the rather conservative (for german standards) bavaria, i was confused. i looked down at the list again making sure i had read the name right. look back up at the kid. \\n\\nme: \"you\\'re sandra?\"\\n\\nkid: \"yep.\"\\n\\nme: \"oh, sorry. *thinking the kid must be from somewhere where sandra is both a girl\\'s and boy\\'s name* where are you from? i\\'ve only ever heard that as a girl\\'s name before.\"\\n\\nthe class starts laughing. sandra gets really quiet. \"i am a girl...\" she says. some of the other students start saying that their parents made the same mistake when they met sandra. i feel so sorry and stupid. i get the class to calm down and finish taking attendance. we watch the movie in silence. after the movie, when we walked down to where the poster presentation took place i apologised to sandra. i felt so incredibly terrible, i still do to this day. throughout the rest of the day i heard lots of whispers about sandra. i tried to stop them whenever they came up, but there was no stopping the 5th grade gossip i had set in motion.\\n\\nsandra, if you\\'re out there, i am so incredibly sorry for humiliating you in front of your class. i hope you are happy and healthy and continue to live your life the way you like. don\\'t let anyone tell you you have to dress or act a certain way just because of the body parts you were born with. i\\'m sorry if i made you feel like you were wrong for dressing and acting differently. i\\'m sorry i probably made that day hell for you. i\\'m sorry for my ignorance.',\n",
       "       \"i tend to leave half-drank beers in my garage. usually no more than a day old, often i'll end up finishing them off the next day. last night there was a millipede outbreak. little buggers were everywhere, including my beer when i drank it today. burned my mouth, firehosing it all over myself, the walls, and the ground didn't help matters much, either.\",\n",
       "       ...,\n",
       "       'today at work i accidentally crashed a row of shopping carts through a 5 foot tall 4 and 1/2 foot wide window. subsequently about 150lbs of glass came crashing down onto a full pallet a bottle of water cutting open at least 11 of the cases, resulting in the world\\'s biggest workplace hazard of glass and water on a tile floor in the middle of a supermarket.\\n\\ni\\'m fairly certain they\\'re going to fire me tomarrow, afterwards i hung a sign next to where the window should be that said \" 404 file not found, windows has encountered a fatal error.\" so i hope at least somebody gets my brand humor out of the deal.\\n\\nyou know guys it\\'s not the bad luck or the unfortunate coincidences that bothers me, what really gets me the most is that not one of the 15 people working in that store offered to help me clean it up. they all stood there and watched me for four and a half hours mop up water and broken glass, i\\'m not even sure i would have accepted the help if they would have offered but it still would have been cool of at least one person to give me a hand.\\n\\ni cleaned it all up the best i could and stayed until 1 a.m. to make sure it was all taken care of, so here\\'s to hoping i don\\'t lose my job tomorrow.',\n",
       "       \"so as u can tell from the title it didn't happen today. it was valentine's of this year and me and my new girlfriend wanted to stay home for the evening. i told her to come mine and i'll cook dinner, get some wine, watch tv etc. \\n everything was going great, we had music on, i was getting ingredients ready on the counter for some delicious spaghetti bolognese. i get a fillet knife (first i saw) to cut up tomatoes. after i cut down a few, the fuck up arrived.\\n  i wanted to look cool, so i spinned the knife in my hand so that the blade is facing downwards, and wanted to bang it into the wooden cutting tray. it worked. to a degree. the knife went in nicely. but because the knife is thin and it gets thinner higher up the blade ( or lower since it's upside down) my hand slipped from the handle onto the blade and i dragged it across to the very bottom. \\n i don't know how, but thankfully, only my pinky finger got cut and my ring finger had something that resembled a paper cut. getting back to it. as soon as the knife went in i knew something was wrong. i fucked up. i take my hand over the sink immediately and open my hand. nothing. half a second later, the finger opened up and sprayed blood upwards hitting my shoulder. it looked like half og the finger was hanging off backwards. my girlfriend on the sight of blood almost fainted and ran off screaming to the kitchen table and sat down and what seemed she was trying to hide behind the back rest of the chair.\\n i was cut many times but never have i bled so much. i put cold water on it while using my other hand to pinch the skin together to stop the bleeding. didn't work for shit. blood was still rushing everywhere. we were the only people at home with no car. so i had a great idea. i'll saw it up myself. i dropped a needle into the pot, put it on maximum while making the kitchen look like someone was murdered. my girlfriend said it's an awful idea and not to do it. plasters wouldn't work as all were small so i used a cloth and wrapped it with duct tape temporarily. cloth soon became red and was dripping. i was about to take out the needle and attempt some kind of idiotic procedure but thankfully my dad came around for some reason. he came in and saw all the blood and asked what happened. i explained i cut myself and he didn't know if he should laugh or sympathise. so instead he called me an idiot. he helped me get it under some sort of control. we used hydrogen peroxide to clean the wound and covered it with a sticky bandage. it was bleeding for until the following day noon because in the morning when i checked on it i stretched my fingers and ripped it all over. we followed the procedure from previous day and left it to heal. \\n nevertheless it was completely not the first valentine's i was planning for. we did not have food that evening and i did not get any action.\",\n",
       "       'this did actually happen today. it started after i came home late from work due to dealing with a particularly picky customer so i was in a rush to get back to meet the girl that was coming over. i needed to get a couple loads of washing done before tomorrow but because i was held back at work i only had time to do one load if i was going to get it dry before it was needed. \\n\\nthis is where the story begins to turn to the worse. the washing i urgently needed done was, as you can probably now work out, different colours... namely a vibrant red jumper and white underwear. i put the washing in not thinking too much of it, my mother had always told me not to do such a thing but of course it had never gone wrong before and now i live away from home why do i need to listen to her anyway? \\n\\nwell of course the washing finishes with just enough time for me to hang it all up before the girl arrives. i reach into the machine to find my new fetching pink undies, well there’s nothing else i can do other than hang them up in full view of anyone who happens to come anywhere near my room. \\n\\nhark, the dreaded knock on the door, the female enters my room and can do nothing more than double take at the scene in front of her. she, being too polite to say anything, stayed over for a while but not long after her departure i revived a text from her suggesting that maybe things aren’t going anywhere. \\n\\nsafe to say my lack of respect for my mothers washing tips and tricks has cost me further dates with a girl who i’m pretty sure now thinks that i’m a little too camp for her liking. \\n\\nto add to my extended single life i discovered that i had left something/things round and metallic in a pocket of some trousers in the wash (probably coins) and these have caused my washing machine to stop working and i will probably have a large bill to get it fixed... ironic, a couple of quid have cost me many more in repairs.\\n\\n \\n\\nedit: paragraphing'],\n",
       "      dtype='<U32412')"
      ]
     },
     "execution_count": 8,
     "metadata": {},
     "output_type": "execute_result"
    }
   ],
   "source": [
    "data"
   ]
  },
  {
   "cell_type": "code",
   "execution_count": 9,
   "id": "f43272bb-3b6a-4a3c-85fd-ee559c52905d",
   "metadata": {},
   "outputs": [
    {
     "data": {
      "text/plain": [
       "(79740,)"
      ]
     },
     "execution_count": 9,
     "metadata": {},
     "output_type": "execute_result"
    }
   ],
   "source": [
    "data.shape"
   ]
  },
  {
   "cell_type": "code",
   "execution_count": 10,
   "id": "da567f0e-fbbd-4f70-b60a-9678b502a350",
   "metadata": {},
   "outputs": [
    {
     "name": "stderr",
     "output_type": "stream",
     "text": [
      "2024-11-08 10:54:53.697405: W tensorflow/core/common_runtime/gpu/gpu_bfc_allocator.cc:47] Overriding orig_value setting because the TF_FORCE_GPU_ALLOW_GROWTH environment variable is set. Original config value was 0.\n",
      "I0000 00:00:1731043493.697560   10918 gpu_device.cc:2022] Created device /job:localhost/replica:0/task:0/device:GPU:0 with 2278 MB memory:  -> device: 0, name: NVIDIA GeForce RTX 3050 Laptop GPU, pci bus id: 0000:01:00.0, compute capability: 8.6\n"
     ]
    }
   ],
   "source": [
    "dataset = tf.data.Dataset.from_tensor_slices(data)"
   ]
  },
  {
   "cell_type": "code",
   "execution_count": 11,
   "id": "670a9c1c-824b-41a1-a72c-4972875943a1",
   "metadata": {},
   "outputs": [],
   "source": [
    "train_ds = dataset.batch(4).cache().prefetch(tf.data.AUTOTUNE)"
   ]
  },
  {
   "cell_type": "code",
   "execution_count": 12,
   "id": "28e8df0d-16f2-41f2-a8b1-48784674fabb",
   "metadata": {},
   "outputs": [
    {
     "data": {
      "text/plain": [
       "<_TakeDataset element_spec=TensorSpec(shape=(None,), dtype=tf.string, name=None)>"
      ]
     },
     "execution_count": 12,
     "metadata": {},
     "output_type": "execute_result"
    }
   ],
   "source": [
    "train_ds.take(1)"
   ]
  },
  {
   "cell_type": "code",
   "execution_count": 13,
   "id": "76e870c8-db37-4198-ae08-d7278b880882",
   "metadata": {},
   "outputs": [
    {
     "name": "stdout",
     "output_type": "stream",
     "text": [
      "tf.Tensor(\n",
      "[b\"i was on skype on my tablet as i went to the toilet iming a friend. i don't multitask very well, so i forgot one of the most important things to do before pooping. i think the best part was when i realised and told my mate who just freaked out because i was talking to him on the john!\"\n",
      " b'this actually happened a couple of years ago. i grew up in germany where i went to a german secondary school that went from 5th to 13th grade (we still had 13 grades then, they have since changed that). my school was named after anne frank and we had a club that i was very active in from 9th grade on, which was dedicated to teaching incoming 5th graders about anne franks life, discrimination, anti-semitism, hitler, the third reich and that whole spiel. basically a day where the students\\' classes are cancelled and instead we give them an interactive history and social studies class with lots of activities and games. \\n\\nthis was my last year at school and i already had a lot of experience doing these project days with the kids. i was running the thing with a friend, so it was just the two of us and 30-something 5th graders. we start off with a brief introduction and brainstorming: what do they know about anne frank and the third reich? you\\'d be surprised how much they know. anyway after the brainstorming we do a few activities, and then we take a short break. after the break we split the class into two groups to make it easier to handle. one group watches a short movie about anne frank while the other gets a tour through our poster presentation that our student group has been perfecting over the years. then the groups switch. \\n\\ni\\'m in the classroom to show my group the movie and i take attendance to make sure no one decided to run away during break. i\\'m going down the list when i come to the name sandra (name changed). a kid with a boyish haircut and a somewhat deeper voice, wearing clothes from the boy\\'s section at a big clothing chain in germany, pipes up. \\n\\nnow keep in mind, these are all 11 year olds, they are all pre-pubescent, their bodies are not yet showing any sex specific features one would be able to see while they are fully clothed (e.g. boobs, beards,...). this being a 5th grade in the rather conservative (for german standards) bavaria, i was confused. i looked down at the list again making sure i had read the name right. look back up at the kid. \\n\\nme: \"you\\'re sandra?\"\\n\\nkid: \"yep.\"\\n\\nme: \"oh, sorry. *thinking the kid must be from somewhere where sandra is both a girl\\'s and boy\\'s name* where are you from? i\\'ve only ever heard that as a girl\\'s name before.\"\\n\\nthe class starts laughing. sandra gets really quiet. \"i am a girl...\" she says. some of the other students start saying that their parents made the same mistake when they met sandra. i feel so sorry and stupid. i get the class to calm down and finish taking attendance. we watch the movie in silence. after the movie, when we walked down to where the poster presentation took place i apologised to sandra. i felt so incredibly terrible, i still do to this day. throughout the rest of the day i heard lots of whispers about sandra. i tried to stop them whenever they came up, but there was no stopping the 5th grade gossip i had set in motion.\\n\\nsandra, if you\\'re out there, i am so incredibly sorry for humiliating you in front of your class. i hope you are happy and healthy and continue to live your life the way you like. don\\'t let anyone tell you you have to dress or act a certain way just because of the body parts you were born with. i\\'m sorry if i made you feel like you were wrong for dressing and acting differently. i\\'m sorry i probably made that day hell for you. i\\'m sorry for my ignorance.'\n",
      " b\"i tend to leave half-drank beers in my garage. usually no more than a day old, often i'll end up finishing them off the next day. last night there was a millipede outbreak. little buggers were everywhere, including my beer when i drank it today. burned my mouth, firehosing it all over myself, the walls, and the ground didn't help matters much, either.\"\n",
      " b'it was last october, but i\\'m feeling the fall-out from it the most today.  \\n\\nafter my mom died from cancer last year, i started looking for my estranged father.  i had only known him for a short time when i was 6 and barely remembered more than his name.  i never knew why he left and my mom would not talk about him without obvious emotional pain, so i didn\\'t push her for information about him.  i figured he didn\\'t care about us.\\n\\ni had googled him multiple times over the years, but he was always unlisted and i didn\\'t have an address with which to search.  after her death, i felt strongly that he should at least know that she died and that i have a beautiful little girl.  it felt wrong that he might be out there somewhere knowing nothing about us.\\ni googled him again and came up with a phone number and address that seemed realistic.  i called, figuring it was going to be another person by the same name since i\\'d already experienced that several times while looking for him.  it wasn\\'t.\\n\\ni had no idea how he would react to me, but he was ecstatic.  he told me that he had been a horrible alcoholic and that he didn\\'t pursue custody of me because he felt himself to be selfish and unstable.  he said he knew that my mom and my family would love me and take wonderful care of me (he was right about that!  my mom was the best woman i\\'ve ever known).\\n\\nso, we started talking and skyping.  we spent a lot of time learning about each other. knowing how he had hurt my mom and bailed on me made it difficult to see him as the person he has grown to be, but i tried to believe that people can change for the better.  \\n\\nhe was exactly everything i needed in a father my entire life:  supportive, sweet, funny, loving.  eventually, i told him that i loved him after months of talking with him.  he was over-the-moon.\\n\\nfast-forward to actually meeting him in person.  this is the part where, without knowing my dad or me, you might feel that i sound like an ass.  i say this because i don\\'t have a precise reason or event that i can point to as to why i don\\'t trust him.  why he actually makes me really nervous.\\n\\nmy dad is really touchy and hovers all of the time.  he doesn\\'t smell clean and his teeth are rotting and crumbled.  he doesn\\'t give personal space and, when i spent a couple of nights staying at his trailer, he kept coming in to my room to check on me while i was sleeping.  he said that he was just so excited to have me there that he couldn\\'t help it, but i really felt uncomfortable with it.  i couldn\\'t sleep and was so glad that i didn\\'t even consider bringing my daughter without spending time with him first.\\n\\nhe also asked me if he could kiss me on the mouth because his family does.  i said \"no\" and he accepted that, but the constant touchiness continued.  it wasn\\'t anything strictly inappropriate, but it made my skin crawl.  \\ni\\'ve spent very little actual time with him in person, maybe 2 weeks total over several trips.  i have, however, talked with him for countless hours on the phone and skype.  \\n\\nduring the most acute months of grieving for my mom, he was so devoted to me, trying to talk me through whatever he could.  i was so grateful for it that i kept ignoring details about his character that really concerned me.  he actually demanded a lot of my time, like hours and hours every day and would get upset if i cited my daughter and husband as reasons that i needed to chill with the phone.  he never paid my mom child support and obviously was never there for us my entire life.  he also evaded taxes and told me he had been to court 9 times and jail once.  \\n\\nagain, i know people can change, but at this point, i find myself wanting less contact with him.  the idea of him spending any time with my daughter alone is out of the question and my husband feels the same concerns.  i don\\'t want to hurt him, but i just can\\'t trust him.  i don\\'t even know if i\\'m asking for advice or confessing to being stupid and rushing into something that will hurt someone.\\n\\nthank you for reading and i sincerely want to wish all the wonderful father\\'s out there a very happy father\\'s day!\\n\\neta:'], shape=(4,), dtype=string)\n"
     ]
    },
    {
     "name": "stderr",
     "output_type": "stream",
     "text": [
      "2024-11-08 10:54:56.768090: W tensorflow/core/kernels/data/cache_dataset_ops.cc:914] The calling iterator did not fully read the dataset being cached. In order to avoid unexpected truncation of the dataset, the partially cached contents of the dataset  will be discarded. This can happen if you have an input pipeline similar to `dataset.cache().take(k).repeat()`. You should use `dataset.take(k).cache().repeat()` instead.\n"
     ]
    }
   ],
   "source": [
    "for string in train_ds.take(1):\n",
    "    print(string)"
   ]
  },
  {
   "cell_type": "code",
   "execution_count": 14,
   "id": "86f08245-a2d9-4a8b-8fff-4cbac4d82be4",
   "metadata": {},
   "outputs": [],
   "source": [
    "preprocessor = keras_hub.models.GPT2CausalLMPreprocessor.from_preset(\n",
    "    \"gpt2_base_en\",\n",
    "    sequence_length=128,\n",
    ")\n",
    "gpt2_lm = keras_hub.models.GPT2CausalLM.from_preset(\n",
    "    \"gpt2_base_en\", preprocessor=preprocessor\n",
    ")"
   ]
  },
  {
   "cell_type": "code",
   "execution_count": 15,
   "id": "0bee6019-e75b-406d-bc1d-9d214f03bdad",
   "metadata": {},
   "outputs": [
    {
     "name": "stderr",
     "output_type": "stream",
     "text": [
      "2024-11-08 10:55:03.852898: E tensorflow/core/util/util.cc:131] oneDNN supports DT_INT64 only on platforms with AVX-512. Falling back to the default Eigen-based implementation if present.\n",
      "2024-11-08 10:55:03.993559: W tensorflow/core/kernels/data/cache_dataset_ops.cc:914] The calling iterator did not fully read the dataset being cached. In order to avoid unexpected truncation of the dataset, the partially cached contents of the dataset  will be discarded. This can happen if you have an input pipeline similar to `dataset.cache().take(k).repeat()`. You should use `dataset.take(k).cache().repeat()` instead.\n",
      "2024-11-08 10:55:25.125917: W external/xla/xla/hlo/transforms/simplifiers/hlo_rematerialization.cc:3020] Can't reduce memory use below 1.39GiB (1491324481 bytes) by rematerialization; only reduced to 1.96GiB (2110682477 bytes), down from 2.00GiB (2146223231 bytes) originally\n"
     ]
    },
    {
     "name": "stdout",
     "output_type": "stream",
     "text": [
      "\u001b[1m  1/500\u001b[0m \u001b[37m━━━━━━━━━━━━━━━━━━━━\u001b[0m \u001b[1m3:39:33\u001b[0m 26s/step - accuracy: 0.2760 - loss: 3.1837"
     ]
    },
    {
     "name": "stderr",
     "output_type": "stream",
     "text": [
      "2024-11-08 10:55:39.476165: W external/xla/xla/hlo/transforms/simplifiers/hlo_rematerialization.cc:3020] Can't reduce memory use below 1.39GiB (1491324481 bytes) by rematerialization; only reduced to 1.96GiB (2110682477 bytes), down from 2.00GiB (2146223231 bytes) originally\n"
     ]
    },
    {
     "name": "stdout",
     "output_type": "stream",
     "text": [
      "\u001b[1m486/500\u001b[0m \u001b[32m━━━━━━━━━━━━━━━━━━━\u001b[0m\u001b[37m━\u001b[0m \u001b[1m1s\u001b[0m 130ms/step - accuracy: 0.3022 - loss: 3.3286"
     ]
    },
    {
     "name": "stderr",
     "output_type": "stream",
     "text": [
      "2024-11-08 10:56:33.948293: W tensorflow/core/kernels/data/cache_dataset_ops.cc:914] The calling iterator did not fully read the dataset being cached. In order to avoid unexpected truncation of the dataset, the partially cached contents of the dataset  will be discarded. This can happen if you have an input pipeline similar to `dataset.cache().take(k).repeat()`. You should use `dataset.take(k).cache().repeat()` instead.\n"
     ]
    },
    {
     "name": "stdout",
     "output_type": "stream",
     "text": [
      "\u001b[1m500/500\u001b[0m \u001b[32m━━━━━━━━━━━━━━━━━━━━\u001b[0m\u001b[37m\u001b[0m \u001b[1m91s\u001b[0m 129ms/step - accuracy: 0.3024 - loss: 3.3262\n"
     ]
    },
    {
     "data": {
      "text/plain": [
       "<keras.src.callbacks.history.History at 0x77333e3029b0>"
      ]
     },
     "execution_count": 15,
     "metadata": {},
     "output_type": "execute_result"
    }
   ],
   "source": [
    "train_ds = train_ds.take(500)\n",
    "num_epochs = 1\n",
    "import keras\n",
    "# Linearly decaying learning rate.\n",
    "learning_rate = keras.optimizers.schedules.PolynomialDecay(\n",
    "    5e-5,\n",
    "    decay_steps=train_ds.cardinality() * num_epochs,\n",
    "    end_learning_rate=0.0,\n",
    ")\n",
    "loss = keras.losses.SparseCategoricalCrossentropy(from_logits=True)\n",
    "gpt2_lm.compile(\n",
    "    optimizer=keras.optimizers.Adam(learning_rate),\n",
    "    loss=loss,\n",
    "    weighted_metrics=[\"accuracy\"],\n",
    ")\n",
    "\n",
    "gpt2_lm.fit(train_ds, epochs=num_epochs)"
   ]
  },
  {
   "cell_type": "code",
   "execution_count": 19,
   "id": "f2f7d222-bdbe-4689-b566-e375315411a2",
   "metadata": {},
   "outputs": [
    {
     "name": "stdout",
     "output_type": "stream",
     "text": [
      "\n",
      "GPT-2 output:\n",
      "I am machine learning engineer and i am a student of machine learning. \n",
      "\n",
      "my job is to make machine learning applications for companies and companies with a business model that allows you to make applications for the most common problems in a large number of applications. \n",
      "\n",
      "this is where my job title comes in. \n",
      "\n",
      "i am a student at a large university and i have been working on a large number of applications.  this is a very small application that i am going to make.  \n",
      "\n",
      "my main problem is that my application will have a few things that are not in the current version of the software.  i will not be able to make any applications with this software. \n",
      "\n",
      "so, this is what the application will look like:\n",
      "\n",
      "http://www.google.com/appstore/detail?q=http://www.google.com/appstore/detail&q=http://www.google.com/appstore?q=http://www.google\n",
      "TOTAL TIME ELAPSED: 1.10s\n"
     ]
    }
   ],
   "source": [
    "start = time.time()\n",
    "\n",
    "output = gpt2_lm.generate(\"I am machine learning engineer\", max_length=200)\n",
    "print(\"\\nGPT-2 output:\")\n",
    "print(output)\n",
    "\n",
    "end = time.time()\n",
    "print(f\"TOTAL TIME ELAPSED: {end - start:.2f}s\")"
   ]
  },
  {
   "cell_type": "code",
   "execution_count": null,
   "id": "faafbb27-fe3b-424e-87a5-e8dae4564506",
   "metadata": {},
   "outputs": [],
   "source": []
  }
 ],
 "metadata": {
  "kernelspec": {
   "display_name": "Python 3 (ipykernel)",
   "language": "python",
   "name": "python3"
  },
  "language_info": {
   "codemirror_mode": {
    "name": "ipython",
    "version": 3
   },
   "file_extension": ".py",
   "mimetype": "text/x-python",
   "name": "python",
   "nbconvert_exporter": "python",
   "pygments_lexer": "ipython3",
   "version": "3.10.15"
  }
 },
 "nbformat": 4,
 "nbformat_minor": 5
}
