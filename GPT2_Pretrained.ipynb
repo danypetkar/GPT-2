{
 "cells": [
  {
   "cell_type": "code",
   "execution_count": 1,
   "id": "e3b8c407-45a0-476d-8d5f-7f9f2022d904",
   "metadata": {},
   "outputs": [],
   "source": [
    "import os\n",
    "\n",
    "os.environ[\"KERAS_BACKEND\"] = \"jax\"  # or \"tensorflow\" or \"torch\""
   ]
  },
  {
   "cell_type": "code",
   "execution_count": 2,
   "id": "475a1626-831e-46b4-b02d-94b408ba3410",
   "metadata": {},
   "outputs": [
    {
     "name": "stderr",
     "output_type": "stream",
     "text": [
      "2024-11-07 17:04:07.996419: E external/local_xla/xla/stream_executor/cuda/cuda_fft.cc:477] Unable to register cuFFT factory: Attempting to register factory for plugin cuFFT when one has already been registered\n",
      "WARNING: All log messages before absl::InitializeLog() is called are written to STDERR\n",
      "E0000 00:00:1730979248.010220   10998 cuda_dnn.cc:8310] Unable to register cuDNN factory: Attempting to register factory for plugin cuDNN when one has already been registered\n",
      "E0000 00:00:1730979248.014029   10998 cuda_blas.cc:1418] Unable to register cuBLAS factory: Attempting to register factory for plugin cuBLAS when one has already been registered\n",
      "/home/aarav/anaconda3/envs/keras-jax/lib/python3.10/site-packages/tqdm/auto.py:21: TqdmWarning: IProgress not found. Please update jupyter and ipywidgets. See https://ipywidgets.readthedocs.io/en/stable/user_install.html\n",
      "  from .autonotebook import tqdm as notebook_tqdm\n"
     ]
    }
   ],
   "source": [
    "import keras_hub\n",
    "import keras\n",
    "import tensorflow as tf\n",
    "import time\n",
    "\n",
    "keras.mixed_precision.set_global_policy(\"mixed_float16\")"
   ]
  },
  {
   "cell_type": "code",
   "execution_count": 3,
   "id": "e956b327-0746-43f5-b60a-433e5b83a717",
   "metadata": {},
   "outputs": [
    {
     "name": "stderr",
     "output_type": "stream",
     "text": [
      "2024-11-07 17:04:09.771665: W tensorflow/core/common_runtime/gpu/gpu_bfc_allocator.cc:47] Overriding orig_value setting because the TF_FORCE_GPU_ALLOW_GROWTH environment variable is set. Original config value was 0.\n",
      "I0000 00:00:1730979249.771762   10998 gpu_device.cc:2022] Created device /job:localhost/replica:0/task:0/device:GPU:0 with 2278 MB memory:  -> device: 0, name: NVIDIA GeForce RTX 3050 Laptop GPU, pci bus id: 0000:01:00.0, compute capability: 8.6\n"
     ]
    }
   ],
   "source": [
    "# To speed up training and generation, we use preprocessor of length 128\n",
    "# instead of full length 1024.\n",
    "preprocessor = keras_hub.models.GPT2CausalLMPreprocessor.from_preset(\n",
    "    \"gpt2_base_en\",\n",
    "    sequence_length=128,\n",
    ")\n",
    "gpt2_lm = keras_hub.models.GPT2CausalLM.from_preset(\n",
    "    \"gpt2_base_en\", preprocessor=preprocessor\n",
    ")"
   ]
  },
  {
   "cell_type": "code",
   "execution_count": 8,
   "id": "ed551c77-d578-4fdc-b9c6-7f7e12cc55e0",
   "metadata": {},
   "outputs": [
    {
     "name": "stdout",
     "output_type": "stream",
     "text": [
      "\n",
      "GPT-2 output:\n",
      "solar system is  a large and complex solar system that has been described by many scientists as being composed of three distinct phases (  -  -  - -  -  -  )  and a single phase (  -  -  -  ).\n",
      "Solar System - The Solar System is a massive and complex system of solar systems with a large and complex solar system that has been described by many scientists as being composed of three distinct phases ( -  -  )  and a single solar system that has been described by many scientists as being composed of three distinct phases ( -  -  -  -).\n",
      "The Solar System is a massive and complicated solar system with a large and complex solar system that has been described by many scientists as being composed of three distinct phases ( -  -  -  -) and a single solar system that has been described by many scientists as being composed of three\n",
      "TOTAL TIME ELAPSED: 1.35s\n"
     ]
    }
   ],
   "source": [
    "start = time.time()\n",
    "\n",
    "output = gpt2_lm.generate(\"solar system is \", max_length=200)\n",
    "print(\"\\nGPT-2 output:\")\n",
    "print(output)\n",
    "\n",
    "end = time.time()\n",
    "print(f\"TOTAL TIME ELAPSED: {end - start:.2f}s\")"
   ]
  },
  {
   "cell_type": "code",
   "execution_count": 5,
   "id": "2818d16a-26bd-4554-8e39-c45c37167475",
   "metadata": {},
   "outputs": [
    {
     "name": "stdout",
     "output_type": "stream",
     "text": [
      "\n",
      "GPT-2 output:\n",
      "That Italian restaurant is called \"The Italian Grill\" and it is located right in the heart of the heart of Venice. The place has been in the city for almost 20 years, but it was once the home of the famous Italian food truck, Pizza Hut.\n",
      "\n",
      "In a statement released on Thursday evening, the restaurant's Italian director Giuseppe Zuccotti said, \"The restaurant is now open to the public. It is open to all ages and is located in the heart of the city of Venice.\n",
      "\n",
      "\"We are looking for a new owner and will be looking at all possible opportunities. We have a lot to offer to you, and we are looking forward to your help in the coming days.\"\n",
      "\n",
      "The restaurant was founded in 2005, when it had about 10 full-time employees.\n",
      "\n",
      "Zuccotti said the Italian restaurant has been a favorite in the area.\n",
      "\n",
      "\"I've never seen so many Italians in a restaurant. They are very friendly,\n",
      "TOTAL TIME ELAPSED: 1.35s\n"
     ]
    }
   ],
   "source": [
    "start = time.time()\n",
    "\n",
    "output = gpt2_lm.generate(\"That Italian restaurant is\", max_length=200)\n",
    "print(\"\\nGPT-2 output:\")\n",
    "print(output)\n",
    "\n",
    "end = time.time()\n",
    "print(f\"TOTAL TIME ELAPSED: {end - start:.2f}s\")"
   ]
  }
 ],
 "metadata": {
  "kernelspec": {
   "display_name": "Python 3 (ipykernel)",
   "language": "python",
   "name": "python3"
  },
  "language_info": {
   "codemirror_mode": {
    "name": "ipython",
    "version": 3
   },
   "file_extension": ".py",
   "mimetype": "text/x-python",
   "name": "python",
   "nbconvert_exporter": "python",
   "pygments_lexer": "ipython3",
   "version": "3.12.7"
  }
 },
 "nbformat": 4,
 "nbformat_minor": 5
}
